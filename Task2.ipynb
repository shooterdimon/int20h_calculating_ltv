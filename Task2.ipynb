{
 "cells": [
  {
   "cell_type": "code",
   "execution_count": 20,
   "id": "violent-updating",
   "metadata": {
    "ExecuteTime": {
     "end_time": "2021-01-26T14:40:21.179945Z",
     "start_time": "2021-01-26T14:40:21.177508Z"
    }
   },
   "outputs": [],
   "source": [
    "import pandas as pd\n",
    "import numpy as np"
   ]
  },
  {
   "cell_type": "code",
   "execution_count": 21,
   "id": "north-catholic",
   "metadata": {
    "ExecuteTime": {
     "end_time": "2021-01-26T14:40:21.219460Z",
     "start_time": "2021-01-26T14:40:21.198491Z"
    }
   },
   "outputs": [
    {
     "data": {
      "text/html": [
       "<div>\n",
       "<style scoped>\n",
       "    .dataframe tbody tr th:only-of-type {\n",
       "        vertical-align: middle;\n",
       "    }\n",
       "\n",
       "    .dataframe tbody tr th {\n",
       "        vertical-align: top;\n",
       "    }\n",
       "\n",
       "    .dataframe thead th {\n",
       "        text-align: right;\n",
       "    }\n",
       "</style>\n",
       "<table border=\"1\" class=\"dataframe\">\n",
       "  <thead>\n",
       "    <tr style=\"text-align: right;\">\n",
       "      <th></th>\n",
       "      <th>Event Date</th>\n",
       "      <th>App Apple ID</th>\n",
       "      <th>Subscription Name</th>\n",
       "      <th>Standard Subscription Duration</th>\n",
       "      <th>Promotional Offer Name</th>\n",
       "      <th>Promotional Offer ID</th>\n",
       "      <th>Subscription Offer Type</th>\n",
       "      <th>Subscription Offer Duration</th>\n",
       "      <th>Marketing Opt-In Duration</th>\n",
       "      <th>Customer Currency</th>\n",
       "      <th>Proceeds Currency</th>\n",
       "      <th>Device</th>\n",
       "      <th>Country</th>\n",
       "      <th>Subscriber ID</th>\n",
       "      <th>Subscriber ID Reset</th>\n",
       "      <th>Refund</th>\n",
       "      <th>Purchase Date</th>\n",
       "      <th>Units</th>\n",
       "    </tr>\n",
       "  </thead>\n",
       "  <tbody>\n",
       "    <tr>\n",
       "      <th>0</th>\n",
       "      <td>2019-07-15</td>\n",
       "      <td>1</td>\n",
       "      <td>weekly 9.99 + 7D trial</td>\n",
       "      <td>7 Days</td>\n",
       "      <td>NaN</td>\n",
       "      <td>NaN</td>\n",
       "      <td>Free Trial</td>\n",
       "      <td>7 Days</td>\n",
       "      <td>NaN</td>\n",
       "      <td>IDR</td>\n",
       "      <td>IDR</td>\n",
       "      <td>iPhone</td>\n",
       "      <td>ID</td>\n",
       "      <td>223411322456765433</td>\n",
       "      <td>NaN</td>\n",
       "      <td>NaN</td>\n",
       "      <td>NaN</td>\n",
       "      <td>1</td>\n",
       "    </tr>\n",
       "    <tr>\n",
       "      <th>1</th>\n",
       "      <td>2019-07-15</td>\n",
       "      <td>1</td>\n",
       "      <td>weekly 9.99 + 7D trial</td>\n",
       "      <td>7 Days</td>\n",
       "      <td>NaN</td>\n",
       "      <td>NaN</td>\n",
       "      <td>Free Trial</td>\n",
       "      <td>7 Days</td>\n",
       "      <td>NaN</td>\n",
       "      <td>USD</td>\n",
       "      <td>USD</td>\n",
       "      <td>iPhone</td>\n",
       "      <td>US</td>\n",
       "      <td>223411322456765434</td>\n",
       "      <td>NaN</td>\n",
       "      <td>NaN</td>\n",
       "      <td>NaN</td>\n",
       "      <td>1</td>\n",
       "    </tr>\n",
       "    <tr>\n",
       "      <th>2</th>\n",
       "      <td>2019-07-15</td>\n",
       "      <td>1</td>\n",
       "      <td>weekly 9.99 + 7D trial</td>\n",
       "      <td>7 Days</td>\n",
       "      <td>NaN</td>\n",
       "      <td>NaN</td>\n",
       "      <td>Free Trial</td>\n",
       "      <td>7 Days</td>\n",
       "      <td>NaN</td>\n",
       "      <td>INR</td>\n",
       "      <td>INR</td>\n",
       "      <td>iPhone</td>\n",
       "      <td>IN</td>\n",
       "      <td>223411322456765435</td>\n",
       "      <td>NaN</td>\n",
       "      <td>NaN</td>\n",
       "      <td>NaN</td>\n",
       "      <td>1</td>\n",
       "    </tr>\n",
       "    <tr>\n",
       "      <th>3</th>\n",
       "      <td>2019-07-15</td>\n",
       "      <td>1</td>\n",
       "      <td>weekly 9.99 + 7D trial</td>\n",
       "      <td>7 Days</td>\n",
       "      <td>NaN</td>\n",
       "      <td>NaN</td>\n",
       "      <td>Free Trial</td>\n",
       "      <td>7 Days</td>\n",
       "      <td>NaN</td>\n",
       "      <td>GBP</td>\n",
       "      <td>GBP</td>\n",
       "      <td>iPhone</td>\n",
       "      <td>GB</td>\n",
       "      <td>223411322456765437</td>\n",
       "      <td>NaN</td>\n",
       "      <td>NaN</td>\n",
       "      <td>NaN</td>\n",
       "      <td>1</td>\n",
       "    </tr>\n",
       "    <tr>\n",
       "      <th>4</th>\n",
       "      <td>2019-07-15</td>\n",
       "      <td>1</td>\n",
       "      <td>weekly 9.99 + 7D trial</td>\n",
       "      <td>7 Days</td>\n",
       "      <td>NaN</td>\n",
       "      <td>NaN</td>\n",
       "      <td>Free Trial</td>\n",
       "      <td>7 Days</td>\n",
       "      <td>NaN</td>\n",
       "      <td>INR</td>\n",
       "      <td>INR</td>\n",
       "      <td>iPhone</td>\n",
       "      <td>IN</td>\n",
       "      <td>223411322456765438</td>\n",
       "      <td>NaN</td>\n",
       "      <td>NaN</td>\n",
       "      <td>NaN</td>\n",
       "      <td>1</td>\n",
       "    </tr>\n",
       "  </tbody>\n",
       "</table>\n",
       "</div>"
      ],
      "text/plain": [
       "   Event Date  App Apple ID       Subscription Name  \\\n",
       "0  2019-07-15             1  weekly 9.99 + 7D trial   \n",
       "1  2019-07-15             1  weekly 9.99 + 7D trial   \n",
       "2  2019-07-15             1  weekly 9.99 + 7D trial   \n",
       "3  2019-07-15             1  weekly 9.99 + 7D trial   \n",
       "4  2019-07-15             1  weekly 9.99 + 7D trial   \n",
       "\n",
       "  Standard Subscription Duration  Promotional Offer Name  \\\n",
       "0                         7 Days                     NaN   \n",
       "1                         7 Days                     NaN   \n",
       "2                         7 Days                     NaN   \n",
       "3                         7 Days                     NaN   \n",
       "4                         7 Days                     NaN   \n",
       "\n",
       "   Promotional Offer ID Subscription Offer Type Subscription Offer Duration  \\\n",
       "0                   NaN              Free Trial                      7 Days   \n",
       "1                   NaN              Free Trial                      7 Days   \n",
       "2                   NaN              Free Trial                      7 Days   \n",
       "3                   NaN              Free Trial                      7 Days   \n",
       "4                   NaN              Free Trial                      7 Days   \n",
       "\n",
       "   Marketing Opt-In Duration Customer Currency Proceeds Currency  Device  \\\n",
       "0                        NaN               IDR               IDR  iPhone   \n",
       "1                        NaN               USD               USD  iPhone   \n",
       "2                        NaN               INR               INR  iPhone   \n",
       "3                        NaN               GBP               GBP  iPhone   \n",
       "4                        NaN               INR               INR  iPhone   \n",
       "\n",
       "  Country       Subscriber ID Subscriber ID Reset  Refund  Purchase Date  \\\n",
       "0      ID  223411322456765433                 NaN     NaN            NaN   \n",
       "1      US  223411322456765434                 NaN     NaN            NaN   \n",
       "2      IN  223411322456765435                 NaN     NaN            NaN   \n",
       "3      GB  223411322456765437                 NaN     NaN            NaN   \n",
       "4      IN  223411322456765438                 NaN     NaN            NaN   \n",
       "\n",
       "   Units  \n",
       "0      1  \n",
       "1      1  \n",
       "2      1  \n",
       "3      1  \n",
       "4      1  "
      ]
     },
     "execution_count": 21,
     "metadata": {},
     "output_type": "execute_result"
    }
   ],
   "source": [
    "data = pd.read_csv('data_analytics.csv')\n",
    "data.head()"
   ]
  },
  {
   "cell_type": "code",
   "execution_count": 22,
   "id": "further-rochester",
   "metadata": {
    "ExecuteTime": {
     "end_time": "2021-01-26T14:40:21.225320Z",
     "start_time": "2021-01-26T14:40:21.220744Z"
    }
   },
   "outputs": [
    {
     "data": {
      "text/plain": [
       "223411322456765437    6\n",
       "223411322456766573    6\n",
       "223411322456766564    6\n",
       "223411322456766566    6\n",
       "223411322456766560    6\n",
       "                     ..\n",
       "223411322456766510    1\n",
       "223411322456766508    1\n",
       "223411322456766498    1\n",
       "223411322456766496    1\n",
       "223411322456766781    1\n",
       "Name: Subscriber ID, Length: 1019, dtype: int64"
      ]
     },
     "execution_count": 22,
     "metadata": {},
     "output_type": "execute_result"
    }
   ],
   "source": [
    "data['Subscriber ID'].value_counts()"
   ]
  },
  {
   "cell_type": "code",
   "execution_count": 23,
   "id": "exotic-principle",
   "metadata": {
    "ExecuteTime": {
     "end_time": "2021-01-26T14:40:21.229483Z",
     "start_time": "2021-01-26T14:40:21.226905Z"
    }
   },
   "outputs": [
    {
     "name": "stdout",
     "output_type": "stream",
     "text": [
      "1019\n"
     ]
    }
   ],
   "source": [
    "unique_ids = data['Subscriber ID'].unique()\n",
    "print(len(unique_ids))"
   ]
  },
  {
   "cell_type": "code",
   "execution_count": 24,
   "id": "integral-mention",
   "metadata": {
    "ExecuteTime": {
     "end_time": "2021-01-26T14:40:21.233859Z",
     "start_time": "2021-01-26T14:40:21.230816Z"
    }
   },
   "outputs": [
    {
     "data": {
      "text/plain": [
       "(2380, 18)"
      ]
     },
     "execution_count": 24,
     "metadata": {},
     "output_type": "execute_result"
    }
   ],
   "source": [
    "data.shape"
   ]
  },
  {
   "cell_type": "code",
   "execution_count": 25,
   "id": "integrated-negative",
   "metadata": {
    "ExecuteTime": {
     "end_time": "2021-01-26T14:40:21.244715Z",
     "start_time": "2021-01-26T14:40:21.235042Z"
    }
   },
   "outputs": [
    {
     "data": {
      "text/plain": [
       "Free Trial    1019\n",
       "Name: Subscription Offer Type, dtype: int64"
      ]
     },
     "execution_count": 25,
     "metadata": {},
     "output_type": "execute_result"
    }
   ],
   "source": [
    "data['Subscription Offer Type'].value_counts()"
   ]
  },
  {
   "cell_type": "code",
   "execution_count": 26,
   "id": "oriental-sympathy",
   "metadata": {
    "ExecuteTime": {
     "end_time": "2021-01-26T14:40:21.253668Z",
     "start_time": "2021-01-26T14:40:21.246585Z"
    }
   },
   "outputs": [],
   "source": [
    "df_count = data['Subscriber ID'].value_counts().to_frame(name='Count')\n",
    "conv_list = [1019]\n",
    "for i in range(1,6):\n",
    "    conv_list.append(len(df_count[df_count['Count']>i]))\n"
   ]
  },
  {
   "cell_type": "code",
   "execution_count": 35,
   "id": "tropical-darkness",
   "metadata": {
    "ExecuteTime": {
     "end_time": "2021-01-26T14:46:20.597377Z",
     "start_time": "2021-01-26T14:46:20.581313Z"
    },
    "scrolled": true
   },
   "outputs": [
    {
     "name": "stdout",
     "output_type": "stream",
     "text": [
      "Conversions from purchase to purchase 0.49, 0.71, 0.74, 0.59, 0.59\n"
     ]
    }
   ],
   "source": [
    "conversion = []\n",
    "for i in range(len(conv_list)-1):\n",
    "    conversion.append(conv_list[i+1]/conv_list[i])\n",
    "    \n",
    "print('Conversions from purchase to purchase '+', '.join([str(round(conv,2)) for conv in conversion]))\n",
    "\n",
    "first = 9.99 * 0.7\n",
    "    "
   ]
  },
  {
   "cell_type": "code",
   "execution_count": 29,
   "id": "satellite-facing",
   "metadata": {
    "ExecuteTime": {
     "end_time": "2021-01-26T14:42:12.139241Z",
     "start_time": "2021-01-26T14:42:12.134902Z"
    }
   },
   "outputs": [
    {
     "name": "stdout",
     "output_type": "stream",
     "text": [
      "LTV =16.33\n"
     ]
    }
   ],
   "source": [
    "result = [first]\n",
    "for con in conversion:\n",
    "    result.append(result[-1]*con)\n",
    "    \n",
    "\n",
    "print(f\"LTV ={round(sum(result),2)}\")"
   ]
  }
 ],
 "metadata": {
  "kernelspec": {
   "display_name": "Python 3",
   "language": "python",
   "name": "python3"
  },
  "language_info": {
   "codemirror_mode": {
    "name": "ipython",
    "version": 3
   },
   "file_extension": ".py",
   "mimetype": "text/x-python",
   "name": "python",
   "nbconvert_exporter": "python",
   "pygments_lexer": "ipython3",
   "version": "3.8.5"
  },
  "latex_envs": {
   "LaTeX_envs_menu_present": true,
   "autoclose": false,
   "autocomplete": true,
   "bibliofile": "biblio.bib",
   "cite_by": "apalike",
   "current_citInitial": 1,
   "eqLabelWithNumbers": true,
   "eqNumInitial": 1,
   "hotkeys": {
    "equation": "Ctrl-E",
    "itemize": "Ctrl-I"
   },
   "labels_anchors": false,
   "latex_user_defs": false,
   "report_style_numbering": false,
   "user_envs_cfg": false
  },
  "toc": {
   "base_numbering": 1,
   "nav_menu": {},
   "number_sections": true,
   "sideBar": true,
   "skip_h1_title": false,
   "title_cell": "Table of Contents",
   "title_sidebar": "Contents",
   "toc_cell": false,
   "toc_position": {},
   "toc_section_display": true,
   "toc_window_display": false
  }
 },
 "nbformat": 4,
 "nbformat_minor": 5
}
